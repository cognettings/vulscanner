{
 "cells": [
  {
   "cell_type": "code",
   "execution_count": null,
   "metadata": {},
   "outputs": [],
   "source": [
    "import pandas as pd\n",
    "import numpy as np\n",
    "import matplotlib.pyplot as plt\n",
    "from scipy import interpolate"
   ]
  },
  {
   "cell_type": "code",
   "execution_count": null,
   "metadata": {},
   "outputs": [],
   "source": [
    "def event_happens(occurrence_probability):\n",
    "    \"\"\" An event happens if a randomly chosen number\n",
    "        falls bellow the given occurrence probability \"\"\"\n",
    "    return np.random.rand() < occurrence_probability"
   ]
  },
  {
   "cell_type": "code",
   "execution_count": null,
   "metadata": {},
   "outputs": [],
   "source": [
    "def lognormal_event_result(lower, upper):\n",
    "    \"\"\" Draws a number from the lognormal distribution\n",
    "        with given lower and upper bounds for confidence interval \"\"\"\n",
    "    mean = (np.log(upper) + np.log(lower))/2.0\n",
    "    stdv = (np.log(upper) - np.log(lower))/3.29\n",
    "    return np.random.lognormal(mean,stdv)"
   ]
  },
  {
   "cell_type": "code",
   "execution_count": null,
   "metadata": {},
   "outputs": [],
   "source": [
    "events_basic = pd.read_csv('events.csv')\n",
    "events_basic.head()"
   ]
  },
  {
   "cell_type": "code",
   "execution_count": null,
   "metadata": {},
   "outputs": [],
   "source": [
    "def simulate_scenario(events):\n",
    "    \"\"\" If an event from the input list happens, add the losses due to it \"\"\"\n",
    "    total_loss = 0\n",
    "    for _, event in events.iterrows():\n",
    "        if event_happens(event['Probability']):\n",
    "            total_loss += lognormal_event_result(event['Lower'],event['Upper'])\n",
    "    return total_loss\n",
    "\n",
    "simulate_scenario(events_basic)"
   ]
  },
  {
   "cell_type": "code",
   "execution_count": null,
   "metadata": {},
   "outputs": [],
   "source": [
    "def monte_carlo(events, rounds):\n",
    "    \"\"\" Simulate many scenarios, returns the results as simple List \"\"\"\n",
    "    list_losses = []\n",
    "    for i in range(rounds):\n",
    "        loss_result = simulate_scenario(events)\n",
    "        list_losses.append(loss_result)\n",
    "    return list_losses\n",
    "\n",
    "# To test Monte Carlo execution time for some number of iterations      \n",
    "import time\n",
    "start_time = time.time()\n",
    "monte_carlo(events_basic, 1000)\n",
    "print(time.time() - start_time)"
   ]
  },
  {
   "cell_type": "code",
   "execution_count": null,
   "metadata": {},
   "outputs": [],
   "source": [
    "# This time run for real, save the results as pandas Series and as numpy parray\n",
    "results = monte_carlo(events_basic, 1000)\n",
    "results_series = pd.Series(results)\n",
    "results_nparray = np.array(results)\n",
    "results_series.describe()\n",
    "results_nparray"
   ]
  },
  {
   "cell_type": "code",
   "execution_count": null,
   "metadata": {},
   "outputs": [],
   "source": [
    "# Plot the results in the order they came out\n",
    "results_series.plot()\n",
    "plt.ticklabel_format(axis='y', style='sci', scilimits=(6,6))\n",
    "plt.xlabel('Iteration')\n",
    "plt.ylabel('Loss (millions)')\n",
    "plt.title('Monte-Carlo simulation results')\n",
    "plt.savefig('results-raw.png')"
   ]
  },
  {
   "cell_type": "code",
   "execution_count": null,
   "metadata": {},
   "outputs": [],
   "source": [
    "# Aggregate and plot them as a histogram\n",
    "results_series.hist(bins=15)\n",
    "plt.xlabel('Loss (millions)')\n",
    "plt.ylabel('Frequency (count)')\n",
    "plt.ticklabel_format(axis='x',style='sci',scilimits=(6,6))\n",
    "plt.title('Aggregated simulation results')\n",
    "plt.savefig('results-hist.png')"
   ]
  },
  {
   "cell_type": "code",
   "execution_count": null,
   "metadata": {
    "scrolled": true
   },
   "outputs": [],
   "source": [
    "def plot_lec(results_nparray, label):\n",
    "    \"\"\" Plots the loss exceedance curve from\n",
    "        an nparray of Monte Carlo results \"\"\"\n",
    "    hist, edges = np.histogram(results_nparray, bins=40)\n",
    "    cumrev = np.cumsum(hist[::-1]*100/len(results_nparray))[::-1]\n",
    "    plt.plot(edges[:-1], cumrev, label=label)\n",
    "    plt.xlabel('Loss (millions)')\n",
    "    plt.ylabel('Chance of loss or greater (%)')\n",
    "    plt.ticklabel_format(axis='x',style='sci',scilimits=(6,6))\n",
    "    plt.title('Loss Exceedance Curve')\n",
    "    plt.grid()\n",
    "    #plt.xscale('log')"
   ]
  },
  {
   "cell_type": "code",
   "execution_count": null,
   "metadata": {},
   "outputs": [],
   "source": [
    "plot_lec(results_nparray, 'Inherent risk')\n",
    "plt.savefig('lec-simple.png')"
   ]
  },
  {
   "cell_type": "code",
   "execution_count": null,
   "metadata": {},
   "outputs": [],
   "source": [
    "# Obtain the residual risk curve\n",
    "events_redux = pd.read_csv('events_redux.csv')\n",
    "results_redux = monte_carlo(events_redux, 100)\n",
    "\n",
    "arr_redux = np.array(results_redux)\n",
    "plot_lec(arr_redux, 'Residual risk')\n",
    "plot_lec(results_nparray, 'Inherent risk')\n",
    "plt.xscale('log')\n",
    "plt.xlabel('Loss')\n",
    "plt.grid()\n",
    "\n",
    "# Interpolate the risk tolerance curve\n",
    "xs = np.array([1,2,3,7,9])*(1e6)\n",
    "tols = np.array([100,60,10,2,1])\n",
    "\n",
    "plt.plot(xs, tols, 'o')\n",
    "xint = np.linspace(min(xs), max(xs))\n",
    "yint = interpolate.interp1d(xs, tols, kind='slinear')\n",
    "plt.plot(xint, yint(xint), label='Risk tolerance')\n",
    "plt.xscale('log')\n",
    "plt.legend()\n",
    "plt.title('Risk curves')\n",
    "plt.savefig('risk-curves-together.png')"
   ]
  },
  {
   "cell_type": "code",
   "execution_count": null,
   "metadata": {},
   "outputs": [],
   "source": [
    "def get_vars(array):\n",
    "    \"\"\" Computes the 5% VaR and tVar from an nparray of Monte Carlo results \"\"\"\n",
    "    var  = np.percentile(array, 95)\n",
    "    tvar = np.average(array[array >= var])\n",
    "    return var, tvar"
   ]
  },
  {
   "cell_type": "code",
   "execution_count": null,
   "metadata": {},
   "outputs": [],
   "source": [
    "def gen_random_events():\n",
    "    \"\"\" Simulates read input data \"\"\"\n",
    "    probability_column = np.random.random_sample(30)*0.1\n",
    "    lower_ci_column    = np.random.random_sample(30)*(1e6)\n",
    "    upper_ci_column    = np.random.random_sample(30)*(9e6)+1e6\n",
    "    dicc = {'Probability' : probability_column,\n",
    "            'Lower' : lower_ci_column,\n",
    "            'Upper': upper_ci_column}\n",
    "    events_rand = pd.DataFrame(dicc)\n",
    "    return events_rand\n",
    "\n",
    "gen_random_events().head()"
   ]
  },
  {
   "cell_type": "code",
   "execution_count": null,
   "metadata": {},
   "outputs": [],
   "source": [
    "def simulate_daily_vars(num_days):\n",
    "    \"\"\" Runs Monte-Carlo over a number of days with simulated inputs \"\"\"\n",
    "    vars, tvars = [], []\n",
    "    for i in range(num_days):\n",
    "        events = gen_random_events()\n",
    "        results = monte_carlo(events, 100)\n",
    "        results_nparray = np.array(results)\n",
    "        var, tvar = get_vars(results_nparray)\n",
    "        vars.append(var)\n",
    "        tvars.append(tvar)\n",
    "    return vars, tvars"
   ]
  },
  {
   "cell_type": "code",
   "execution_count": null,
   "metadata": {},
   "outputs": [],
   "source": [
    "# Simulate t/Var monitoring\n",
    "days = 30\n",
    "vars, tvars = simulate_daily_vars(days)\n",
    "t = np.arange(1, days + 1)"
   ]
  },
  {
   "cell_type": "code",
   "execution_count": null,
   "metadata": {},
   "outputs": [],
   "source": [
    "plt.plot(t, vars, label='VaR')\n",
    "plt.plot(t, tvars, label='tVaR')\n",
    "plt.title('Evolution of daily VaR in month')\n",
    "plt.ticklabel_format(axis='y', style='sci', scilimits=(6,6))\n",
    "plt.ylabel('t/VaR (millions)')\n",
    "plt.xlabel('Day of the month')\n",
    "plt.legend()\n",
    "plt.savefig('monitor-var-time.png')"
   ]
  },
  {
   "cell_type": "code",
   "execution_count": null,
   "metadata": {},
   "outputs": [],
   "source": []
  }
 ],
 "metadata": {
  "kernelspec": {
   "display_name": "Python 3",
   "language": "python",
   "name": "python3"
  },
  "language_info": {
   "codemirror_mode": {
    "name": "ipython",
    "version": 3
   },
   "file_extension": ".py",
   "mimetype": "text/x-python",
   "name": "python",
   "nbconvert_exporter": "python",
   "pygments_lexer": "ipython3",
   "version": "3.7.1"
  }
 },
 "nbformat": 4,
 "nbformat_minor": 2
}
